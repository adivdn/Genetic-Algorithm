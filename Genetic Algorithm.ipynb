{
 "cells": [
  {
   "cell_type": "code",
   "execution_count": 1,
   "metadata": {},
   "outputs": [],
   "source": [
    "import numpy as np\n",
    "import random\n",
    "import math\n",
    "import matplotlib.pyplot as plt"
   ]
  },
  {
   "cell_type": "code",
   "execution_count": 2,
   "metadata": {},
   "outputs": [],
   "source": [
    "nPopulasi = 16\n",
    "nIndividu = 6\n",
    "\n",
    "def initPopulasi(nPopulasi,nIndividu):\n",
    "    populasi = []\n",
    "    for i in range(nPopulasi):\n",
    "        arr = []\n",
    "        for j in range(nIndividu):\n",
    "            r = random.randint(0,1)\n",
    "            arr.append(r)\n",
    "        populasi.append(arr)\n",
    "    return populasi"
   ]
  },
  {
   "cell_type": "code",
   "execution_count": 3,
   "metadata": {},
   "outputs": [],
   "source": [
    "def fungsiDekode(individu):\n",
    "    min1 = -1\n",
    "    min2 = -1\n",
    "    max1 = 2\n",
    "    max2 = 1\n",
    "    x1 = min1 + (max1-min1)/(math.pow(2,-1) + math.pow(2,-2)+ math.pow(2,-3)) * (individu[0] * math.pow(2,-1) + individu[1] * math.pow(2,-2) + individu[2] * math.pow(2,-3))\n",
    "    x2 = min2 + (max2-min2)/(math.pow(2,-1) + math.pow(2,-2) +math.pow(2,-3)) * (individu[3] * math.pow(2,-1) + individu[4] * math.pow(2,-2) + individu[5] * math.pow(2,-3))\n",
    "    return x1,x2"
   ]
  },
  {
   "cell_type": "code",
   "execution_count": 4,
   "metadata": {},
   "outputs": [],
   "source": [
    "def fitness(x1,x2):\n",
    "    Cos = np.cos(x1)\n",
    "    Sin = np.sin(x2)\n",
    "    h = ((Cos * Sin) - (x1 / x2**2 + 1))\n",
    "    return -h"
   ]
  },
  {
   "cell_type": "code",
   "execution_count": 5,
   "metadata": {},
   "outputs": [],
   "source": [
    "def nilaiFitness(individu):\n",
    "    x1,x2 = fungsiDekode(individu)\n",
    "    return fitness(x1,x2)"
   ]
  },
  {
   "cell_type": "code",
   "execution_count": 6,
   "metadata": {},
   "outputs": [],
   "source": [
    "def sort_populasi(populasi):\n",
    "    return sorted(populasi, key = lambda individu: nilaiFitness(individu))"
   ]
  },
  {
   "cell_type": "code",
   "execution_count": 7,
   "metadata": {},
   "outputs": [],
   "source": [
    "def totalFitness(populasi):\n",
    "    total = 0\n",
    "    for i in range(len(populasi)):\n",
    "        total += nilaiFitness(populasi[i])\n",
    "    return total"
   ]
  },
  {
   "cell_type": "code",
   "execution_count": 8,
   "metadata": {},
   "outputs": [],
   "source": [
    "def probabilitas(fitness,totalFitness):\n",
    "    return fitness / totalFitness"
   ]
  },
  {
   "cell_type": "code",
   "execution_count": 9,
   "metadata": {},
   "outputs": [],
   "source": [
    "def probKumulative(populasi):\n",
    "    arrK = []\n",
    "    total = 0\n",
    "    for i in range(len(populasi)):\n",
    "        total += probabilitas(nilaiFitness(populasi[i]), totalFitness(populasi))\n",
    "        arrK.append(total)\n",
    "    return arrK"
   ]
  },
  {
   "cell_type": "code",
   "execution_count": 10,
   "metadata": {},
   "outputs": [],
   "source": [
    "def rouletteWheel(populasi):\n",
    "    arrKum = probKumulative(populasi)\n",
    "    parent = []\n",
    "    r = np.random.uniform(low = np.amin(probKumulative(populasi)), high = np.amax(probKumulative(populasi)))\n",
    "    i = 0\n",
    "    while r > 0 and i <= len(populasi):\n",
    "        r -= arrKum[i]\n",
    "        i +=1\n",
    "    parent = populasi[i]\n",
    "    return parent"
   ]
  },
  {
   "cell_type": "code",
   "execution_count": 11,
   "metadata": {},
   "outputs": [],
   "source": [
    "probCross = 0.6\n",
    "def CrossOver(Parent1,Parent2,probCross):\n",
    "    child1 = Parent1.copy()\n",
    "    child2 = Parent2.copy()\n",
    "    prob = random.random()\n",
    "    if prob <= probCross:\n",
    "        child1[1] = Parent2[1]\n",
    "        child2[1] = Parent1[1]\n",
    "    return child1,child2\n",
    "        "
   ]
  },
  {
   "cell_type": "code",
   "execution_count": 12,
   "metadata": {},
   "outputs": [],
   "source": [
    "probMutasi = 0.01\n",
    "def mutasi(ChildL,probMutasi):\n",
    "    arrMutasi = ChildL\n",
    "    for i in range(len(arrMutasi)):\n",
    "        r = random.random()\n",
    "        randKromosom = random.randint(1,nIndividu-1)\n",
    "        if r> 0 and r <= probMutasi and i > 0:\n",
    "            if arrMutasi[randKromosom] == 0:\n",
    "                arrMutasi[randKromosom] = 1\n",
    "            else:\n",
    "                arrMutasi[randKromosom] = 0\n",
    "                \n",
    "    return arrMutasi "
   ]
  },
  {
   "cell_type": "code",
   "execution_count": 13,
   "metadata": {},
   "outputs": [],
   "source": [
    "def maxFit(populasi):\n",
    "    fit = []\n",
    "    for i in range(len(populasi)):\n",
    "        fit.append(nilaiFitness(populasi[i]))\n",
    "    max = 0\n",
    "    index = 0\n",
    "    for i in range(len(populasi)):\n",
    "        if max < fit[i]:\n",
    "            max = fit[i]\n",
    "            index = i\n",
    "    return populasi[index]"
   ]
  },
  {
   "cell_type": "code",
   "execution_count": 14,
   "metadata": {},
   "outputs": [],
   "source": [
    "def elitism(populasi,n):\n",
    "    sortedPopulasi = sort_populasi(populasi)\n",
    "    return sortedPopulasi[-n:]"
   ]
  },
  {
   "cell_type": "code",
   "execution_count": 15,
   "metadata": {},
   "outputs": [],
   "source": [
    "def genReplacement():\n",
    "    fit = []\n",
    "    maxGen = 512\n",
    "    oldGen = initPopulasi(nPopulasi,nIndividu)\n",
    "    for i in range(maxGen):\n",
    "        newPop = elitism(oldGen,2)\n",
    "        while len(newPop) < nPopulasi:\n",
    "            parent1 = rouletteWheel(oldGen)\n",
    "            parent2 = rouletteWheel(oldGen)\n",
    "            child1,child2 = CrossOver(parent1,parent2,probCross)\n",
    "            child1 = mutasi(child1,probMutasi)\n",
    "            child2 = mutasi(child2,probMutasi)\n",
    "            newPop.append(child1)\n",
    "            newPop.append(child2)\n",
    "        oldGen = newPop\n",
    "        fit.append(nilaiFitness(maxFit(oldGen)))\n",
    "    \n",
    "    bestGen = oldGen\n",
    "    bestIndividu = maxFit(bestGen)\n",
    "    x1,x2 = fungsiDekode(bestIndividu)\n",
    "    print(\"Best Kromosom = \",bestIndividu)\n",
    "    print(\"x1 = \",x1)\n",
    "    print(\"x2 = \",x2)\n",
    "    nilaiFit = np.cos(x1) * np.sin(x2) - (x1 / (math.pow(x2,2) + 1))\n",
    "    print(\"Nilai Fitness = \",nilaiFit)\n",
    "    plt.plot(fit)\n",
    "    plt.show()"
   ]
  },
  {
   "cell_type": "code",
   "execution_count": 17,
   "metadata": {
    "scrolled": false
   },
   "outputs": [
    {
     "name": "stdout",
     "output_type": "stream",
     "text": [
      "Best Kromosom =  [1, 1, 1, 1, 0, 0]\n",
      "x1 =  2.0\n",
      "x2 =  0.1428571428571428\n",
      "Nilai Fitness =  -2.019247544966795\n"
     ]
    },
    {
     "data": {
      "image/png": "[encoded data removed]",
      "text/plain": [
       "<Figure size 432x288 with 1 Axes>"
      ]
     },
     "metadata": {
      "needs_background": "light"
     },
     "output_type": "display_data"
    }
   ],
   "source": [
    "genReplacement()"
   ]
  },
  {
   "cell_type": "code",
   "execution_count": null,
   "metadata": {},
   "outputs": [],
   "source": []
  }
 ],
 "metadata": {
  "kernelspec": {
   "display_name": "Python 3",
   "language": "python",
   "name": "python3"
  },
  "language_info": {
   "codemirror_mode": {
    "name": "ipython",
    "version": 3
   },
   "file_extension": ".py",
   "mimetype": "text/x-python",
   "name": "python",
   "nbconvert_exporter": "python",
   "pygments_lexer": "ipython3",
   "version": "3.7.6"
  }
 },
 "nbformat": 4,
 "nbformat_minor": 4
}
